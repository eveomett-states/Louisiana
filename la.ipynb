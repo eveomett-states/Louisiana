{
 "cells": [
  {
   "cell_type": "markdown",
   "id": "48a72edc-10d5-447e-bf59-a42b79b13098",
   "metadata": {},
   "source": [
    "# All the parameters that need to be changed"
   ]
  },
  {
   "cell_type": "code",
   "execution_count": 2,
   "id": "55545525-1a53-4366-88fa-4b4ecc94ecad",
   "metadata": {},
   "outputs": [],
   "source": [
    "# Louisiana\n",
    "state_ab = \"la\""
   ]
  },
  {
   "cell_type": "markdown",
   "id": "c3e1bdeb-55c5-4c10-83b5-de352e6d559d",
   "metadata": {
    "tags": []
   },
   "source": [
    "## Data\n",
    "1. Download all the data in directory \"la_data\"\n",
    "2. Eextract them all"
   ]
  },
  {
   "cell_type": "code",
   "execution_count": 4,
   "id": "1cbb32f0-472b-4441-abf2-6af58699cb5f",
   "metadata": {},
   "outputs": [],
   "source": [
    "data_folder = state_ab + \"_data/\"\n",
    "population1_data = \"./{}{}_pl2020_b/{}_pl2020_p1_b.shp\".format(data_folder, state_ab, state_ab)\n",
    "population2_data = \"./{}{}_pl2020_b/{}_pl2020_p2_b.shp\".format(data_folder, state_ab, state_ab)\n",
    "vap_data =  \"./{}{}_pl2020_b/{}_pl2020_p4_b.shp\".format(data_folder, state_ab, state_ab)\n",
    "vest20_data = \"./{}{}_vest_20/{}_vest_20.shp\".format(data_folder, state_ab, state_ab)\n",
    "vest19_data = \"./{}{}_vest_19/{}_vest_19.shp\".format(data_folder, state_ab, state_ab)\n",
    "vest18_data = \"./{}{}_vest_18/{}_vest_18.shp\".format(data_folder, state_ab, state_ab)\n",
    "vest16_data = \"./{}{}_vest_16/{}_vest_16.shp\".format(data_folder, state_ab, state_ab)\n",
    "cd_data = \"./{}{}_cong_adopted_2022/HB1_Congress_221ES.shp\".format(data_folder, state_ab)\n",
    "send_data = \"./{}{}_sldu_adopted_2022/SB1_Senate_221ES.shp\".format(data_folder, state_ab)\n",
    "hdist_data = \"./{}{}_sldl_adopted_2022/HB14_House_221ES.shp\".format(data_folder, state_ab)\n",
    "county_data = \"./{}{}_pl2020_cnty/{}_pl2020_cnty.shp\".format(data_folder, state_ab, state_ab)"
   ]
  },
  {
   "cell_type": "markdown",
   "id": "2594a66a-efb1-443f-8b0a-b2c73257f1cc",
   "metadata": {},
   "source": [
    "## Parameters that needs to be manually checked\n",
    "\n",
    "### base vest data\n",
    "start_col = 5\\\n",
    "vest_base_data = vest20\\\n",
    "year = '20'\n",
    "\n",
    "### district data\n",
    "district column name of cong_df, send, hdist when calling add_dist()"
   ]
  },
  {
   "cell_type": "markdown",
   "id": "d9cfe42b-cfd8-4ad4-b255-31268cb35669",
   "metadata": {},
   "source": [
    "# Program starts"
   ]
  },
  {
   "cell_type": "code",
   "execution_count": 7,
   "id": "49a264d4-c255-4393-b5ae-74b6f7c645da",
   "metadata": {},
   "outputs": [],
   "source": [
    "import pandas as pd\n",
    "import geopandas as gpd\n",
    "import maup\n",
    "import time\n",
    "from maup import smart_repair\n",
    "from gerrychain import Graph\n",
    "import os\n",
    "import math\n",
    "\n",
    "maup.progress.enabled = True"
   ]
  },
  {
   "cell_type": "code",
   "execution_count": 8,
   "id": "f78d28b6-abb4-4444-aa7e-f0eb73dab3f2",
   "metadata": {},
   "outputs": [],
   "source": [
    "import warnings\n",
    "warnings.filterwarnings(\"ignore\")"
   ]
  },
  {
   "cell_type": "code",
   "execution_count": 9,
   "id": "378425b3-9819-41bd-8212-2e031b571cf2",
   "metadata": {},
   "outputs": [],
   "source": [
    "def do_smart_repair(df, min_rook_length = None, snap_precision = 10):\n",
    "    # change it to the UTM it needs for smart_repair\n",
    "    df = df.to_crs(df.estimate_utm_crs())\n",
    "    df = smart_repair(df, min_rook_length = min_rook_length)\n",
    "\n",
    "    if maup.doctor(df) == False:\n",
    "        #raise Exception('maup.doctor failed')\n",
    "        print(\"Perhaps smart repair failed?\")\n",
    "        return df\n",
    "    return df"
   ]
  },
  {
   "cell_type": "code",
   "execution_count": 10,
   "id": "df3945da-c3af-41a8-9511-a5aba33fef0b",
   "metadata": {},
   "outputs": [],
   "source": [
    "def add_district(dist_df, dist_name, election_df, col_name):\n",
    "    election_df = election_df.to_crs(election_df.estimate_utm_crs())\n",
    "    dist_df = dist_df.to_crs(dist_df.estimate_utm_crs())\n",
    "    # check if it needs to be smart_repair\n",
    "    if maup.doctor(dist_df) != True:\n",
    "        dist_df = do_smart_repair(dist_df)\n",
    "\n",
    "    # assign the pricincts\n",
    "    precincts_to_district_assignment = maup.assign(election_df.geometry, dist_df.geometry)\n",
    "    election_df[dist_name] = precincts_to_district_assignment\n",
    "    for precinct_index in range(len(election_df)):\n",
    "        if not math.isnan(election_df.at[precinct_index, dist_name]): #Note: added this b/c sen district has a hole over Lake Pontchartrain\n",
    "            election_df.at[precinct_index, dist_name] = dist_df.at[election_df.at[precinct_index, dist_name], col_name]\n",
    "\n",
    "    return election_df"
   ]
  },
  {
   "cell_type": "code",
   "execution_count": 11,
   "id": "29c38a31-6707-4ab3-a9e4-38d69ce6838c",
   "metadata": {},
   "outputs": [],
   "source": [
    "def rename(original, year):\n",
    "    party = original[6]\n",
    "    if party == 'R' or party == 'D':\n",
    "        return original[3:6] + year + original[6]\n",
    "    else:\n",
    "        return original[3:6] + year + 'O'"
   ]
  },
  {
   "cell_type": "code",
   "execution_count": 12,
   "id": "9cbd02f8-308e-4fe9-804a-6bc8474b749b",
   "metadata": {},
   "outputs": [],
   "source": [
    "def check_population(population, df):\n",
    "    pop_check = pd.DataFrame({\n",
    "        'pop_col': pop_col,\n",
    "        'population_df': population[pop_col].sum(), \n",
    "        'vest_base': df[pop_col].sum(),\n",
    "        'equal': [x == y for x, y in zip(population[pop_col].sum(), df[pop_col].sum())]\n",
    "    })\n",
    "    if pop_check['equal'].mean() < 1:\n",
    "        print(pop_check)\n",
    "        raise Exception(\"population doesn't agree\")\n",
    "\n",
    "    else:\n",
    "        print(\"population agrees\")"
   ]
  },
  {
   "cell_type": "code",
   "execution_count": 13,
   "id": "c4508baf-84cd-4a31-97ad-059164232e8e",
   "metadata": {},
   "outputs": [],
   "source": [
    "def add_vest(vest, df, year, population, start_col, snap_precision = 10):\n",
    "    df = df.to_crs(df.estimate_utm_crs())\n",
    "    vest = vest.to_crs(vest.estimate_utm_crs())\n",
    "    population = population.to_crs(population.estimate_utm_crs())\n",
    "    df_crs = df.crs\n",
    "    vest_crs = vest.crs\n",
    "    \n",
    "     # check if it needs to be smart_repair\n",
    "    if maup.doctor(vest) != True:\n",
    "        vest = do_smart_repair(vest, snap_precision = snap_precision)\n",
    "    \n",
    "    # rename the columns\n",
    "    original_col = vest.columns[start_col:-1]\n",
    "    new_col = [rename(i, year) for i in original_col]\n",
    "    rename_dict = dict(zip(original_col, new_col))\n",
    "    vest = vest.rename(columns=rename_dict)\n",
    "    vest = vest.groupby(level=0, axis=1).sum() # combine all the other party's vote into columns with sufix \"O\"\n",
    "    col_name = list(set(new_col))\n",
    "    col_name.sort()\n",
    "    \n",
    "    # make the blocks from precincts by weight\n",
    "    vest = gpd.GeoDataFrame(vest, crs=vest_crs)\n",
    "    election_in_block = population[[\"VAP\", 'geometry']] # population_df is in block scale\n",
    "    blocks_to_precincts_assignment = maup.assign(election_in_block.geometry, vest.geometry)\n",
    "    weights = election_in_block[\"VAP\"] / blocks_to_precincts_assignment.map(election_in_block[\"VAP\"].groupby(blocks_to_precincts_assignment).sum())\n",
    "    weights = weights.fillna(0)\n",
    "    prorated = maup.prorate(blocks_to_precincts_assignment, vest[col_name], weights)\n",
    "    election_in_block[col_name] = prorated\n",
    "    \n",
    "    # assign blocks to precincts\n",
    "    election_in_block = gpd.GeoDataFrame(election_in_block, crs=vest_crs)\n",
    "    df = gpd.GeoDataFrame(df, crs=df_crs)\n",
    "    block_to_pricinct_assginment = maup.assign(election_in_block.geometry, df.geometry)\n",
    "    df[col_name] = election_in_block[col_name].groupby(block_to_pricinct_assginment).sum()\n",
    "    df = df.groupby(level=0, axis=1).sum()\n",
    "    df = gpd.GeoDataFrame(df, crs = df_crs)\n",
    "    # check if population agrees\n",
    "    check_population(population, df)\n",
    "    \n",
    "    return df"
   ]
  },
  {
   "cell_type": "code",
   "execution_count": 14,
   "id": "fdc37a91-96cb-419d-ab76-aaa3c9c41726",
   "metadata": {},
   "outputs": [],
   "source": [
    "def add_vest_base(vest, start_col, year, county = None, min_rook_length = None, snap_precision = 10):\n",
    "    vest = vest.to_crs(vest.estimate_utm_crs())\n",
    "    vest_crs = vest.crs\n",
    "    original_col = vest.columns[start_col:-1]\n",
    "    new_col = [rename(i, year) for i in original_col]\n",
    "    rename_dict = dict(zip(original_col, new_col))\n",
    "    vest = vest.rename(columns=rename_dict)\n",
    "    vest = vest.groupby(level=0, axis=1).sum()\n",
    "    vest = gpd.GeoDataFrame(vest, crs=vest_crs)\n",
    "\n",
    "    if county is not None:\n",
    "        county = county.to_crs(county.estimate_utm_crs())\n",
    "        vest = smart_repair(vest, nest_within_regions = county, min_rook_length = min_rook_length, snap_precision = snap_precision) # nest precincts within counties\n",
    "\n",
    "    else:\n",
    "        vest = smart_repair(vest, min_rook_length = min_rook_length, snap_precision = snap_precision) \n",
    "    \n",
    "    return vest"
   ]
  },
  {
   "cell_type": "code",
   "execution_count": 15,
   "id": "273b0489-a19c-4b7b-ab14-5437a2f7308b",
   "metadata": {},
   "outputs": [],
   "source": [
    "def check_small_boundary_lengths(vest_base):\n",
    "    import copy\n",
    "    vest_base = vest_base.to_crs(vest_base.estimate_utm_crs())\n",
    "\n",
    "    boundaries = copy.deepcopy(vest_base)\n",
    "    boundaries[\"geometry\"] = boundaries.geometry.boundary  # get boundaries\n",
    "    neighbors = gpd.sjoin(boundaries, vest_base, predicate=\"intersects\") # find boundaries that intersect\n",
    "    neighbors = neighbors[neighbors.index != neighbors.index_right] # remove boundaries of a region with itself\n",
    "\n",
    "    # compute shared border length using intersection\n",
    "    borders = list(neighbors.apply(\n",
    "        lambda row: row.geometry.intersection(vest_base.loc[row.index_right, \"geometry\"]).length, axis=1\n",
    "    ))\n",
    "\n",
    "    borders.sort()\n",
    "    \n",
    "    return borders"
   ]
  },
  {
   "cell_type": "markdown",
   "id": "ab6ce8f5-f237-4d6c-8425-cd8a0b080f65",
   "metadata": {},
   "source": [
    "## Read the census data"
   ]
  },
  {
   "cell_type": "code",
   "execution_count": 17,
   "id": "185d2b84-d37f-4f24-86c1-1bcd0b4347e2",
   "metadata": {},
   "outputs": [],
   "source": [
    "population1_df = gpd.read_file(population1_data)\n",
    "population2_df = gpd.read_file(population2_data)\n",
    "vap_df = gpd.read_file(vap_data)\n",
    "county_df = gpd.read_file(county_data)"
   ]
  },
  {
   "cell_type": "code",
   "execution_count": 18,
   "id": "57b3b9bb-9721-469d-8eee-0dd5eb0e6015",
   "metadata": {},
   "outputs": [],
   "source": [
    "population2_df = population2_df.drop(columns=['SUMLEV', 'LOGRECNO', 'GEOID', 'COUNTY', 'geometry'])\n",
    "vap_df = vap_df.drop(columns=['SUMLEV', 'LOGRECNO', 'GEOID', 'COUNTY', 'geometry'])"
   ]
  },
  {
   "cell_type": "code",
   "execution_count": 19,
   "id": "daa935f7-bc02-4856-adb0-9cc9cf31ffca",
   "metadata": {},
   "outputs": [],
   "source": [
    "population_df = pd.merge(population1_df, population2_df, on='GEOID20')\n",
    "population_df = pd.merge(population_df, vap_df, on='GEOID20')\n",
    "population_df = population_df.to_crs(population_df.estimate_utm_crs())"
   ]
  },
  {
   "cell_type": "code",
   "execution_count": 20,
   "id": "dc647a21-5081-4b27-8549-a946e5dacde5",
   "metadata": {},
   "outputs": [
    {
     "name": "stderr",
     "output_type": "stream",
     "text": [
      "100%|█████████████████████████████████| 142874/142874 [00:55<00:00, 2553.83it/s]\n"
     ]
    },
    {
     "data": {
      "text/plain": [
       "True"
      ]
     },
     "execution_count": 20,
     "metadata": {},
     "output_type": "execute_result"
    }
   ],
   "source": [
    "maup.doctor(population_df)"
   ]
  },
  {
   "cell_type": "code",
   "execution_count": 21,
   "id": "0845f50e-9920-404a-8284-c47df7b0f6ce",
   "metadata": {},
   "outputs": [],
   "source": [
    "rename_dict = {'P0020001': 'TOTPOP', 'P0020002': 'HISP', 'P0020005': 'NH_WHITE', 'P0020006': 'NH_BLACK', 'P0020007': 'NH_AMIN',\n",
    "               'P0020008': 'NH_ASIAN', 'P0020009': 'NH_NHPI', 'P0020010': 'NH_OTHER', 'P0020011': 'NH_2MORE',\n",
    "               'P0040001': 'VAP', 'P0040002': 'HVAP', 'P0040005': 'WVAP', 'P0040006': 'BVAP', 'P0040007': 'AMINVAP',\n",
    "               'P0040008': 'ASIANVAP', 'P0040009': 'NHPIVAP', 'P0040010': 'OTHERVAP', 'P0040011': '2MOREVAP'}"
   ]
  },
  {
   "cell_type": "code",
   "execution_count": 22,
   "id": "4d4f9723-ad23-46ff-bbd0-8d4ab628b69b",
   "metadata": {},
   "outputs": [],
   "source": [
    "population_df.rename(columns=rename_dict, inplace = True)"
   ]
  },
  {
   "cell_type": "code",
   "execution_count": 23,
   "id": "9550a841-5692-4d5f-a7f1-131d53eb9f12",
   "metadata": {},
   "outputs": [],
   "source": [
    "population_df['H_WHITE'] = population_df.apply(lambda t: t['P0010003'] - t['NH_WHITE'], 1)\n",
    "population_df['H_BLACK'] = population_df.apply(lambda t: t['P0010004'] - t['NH_BLACK'], 1)\n",
    "population_df['H_AMIN'] = population_df.apply(lambda t: t['P0010005'] - t['NH_AMIN'], 1)\n",
    "population_df['H_ASIAN'] = population_df.apply(lambda t: t['P0010006'] - t['NH_ASIAN'], 1)\n",
    "population_df['H_NHPI'] = population_df.apply(lambda t: t['P0010007'] - t['NH_NHPI'], 1)\n",
    "population_df['H_OTHER'] = population_df.apply(lambda t: t['P0010008'] - t['NH_OTHER'], 1)\n",
    "population_df['H_2MORE'] = population_df.apply(lambda t: t['P0010009'] - t['NH_2MORE'], 1)"
   ]
  },
  {
   "cell_type": "markdown",
   "id": "e1e89689-06e1-4937-9bee-b0442bfc33d5",
   "metadata": {},
   "source": [
    "# Read the base vest data\n",
    "Now using it as a \"base precinct\", but it could be vest 18 or vest 16 if vest 20 is not working"
   ]
  },
  {
   "cell_type": "markdown",
   "id": "bcfb3af1-db89-4463-98d8-3a0192067bb4",
   "metadata": {},
   "source": [
    "### Check if vest 20 can be used as base"
   ]
  },
  {
   "cell_type": "code",
   "execution_count": 26,
   "id": "397e9936-bfde-4b09-9dcb-207733dfb2dd",
   "metadata": {},
   "outputs": [],
   "source": [
    "vest20 = gpd.read_file(vest20_data)"
   ]
  },
  {
   "cell_type": "markdown",
   "id": "20718edd-b876-4d8d-8509-5eeee4b9b9be",
   "metadata": {},
   "source": [
    "### If it is true for maup doctor, we will use it as the base vest data.\n",
    "Check where the election column starts, this should be the same for all vest data in that state"
   ]
  },
  {
   "cell_type": "code",
   "execution_count": 28,
   "id": "2d744be1-7568-4b94-a383-17d219ac128b",
   "metadata": {},
   "outputs": [
    {
     "data": {
      "text/plain": [
       "Index(['STATEFP', 'COUNTYFP', 'VTDST', 'NAME', 'G20PRERTRU', 'G20PREDBID',\n",
       "       'G20PRELJOR', 'G20PREOWES', 'G20PREOOTH', 'G20USSRCAS', 'G20USSRMUR',\n",
       "       'G20USSDPER', 'G20USSDEDW', 'G20USSDPIE', 'G20USSDKNI', 'G20USSDWEN',\n",
       "       'G20USSLSIG', 'G20USSIMEN', 'G20USSOPRI', 'G20USSOJOH', 'G20USSNBIL',\n",
       "       'G20USSNBOU', 'G20USSNMON', 'G20USSNDAR', 'geometry'],\n",
       "      dtype='object')"
      ]
     },
     "execution_count": 28,
     "metadata": {},
     "output_type": "execute_result"
    }
   ],
   "source": [
    "vest20.columns"
   ]
  },
  {
   "cell_type": "markdown",
   "id": "65620cab-599f-4232-818e-e85846d02694",
   "metadata": {},
   "source": [
    "## Parameters that need to be checked"
   ]
  },
  {
   "cell_type": "code",
   "execution_count": 30,
   "id": "4200a0f8-29dd-42f9-96e4-ff27188ce32a",
   "metadata": {},
   "outputs": [],
   "source": [
    "start_col = 4\n",
    "vest_base_data = vest20\n",
    "year = '20'"
   ]
  },
  {
   "cell_type": "code",
   "execution_count": 31,
   "id": "728420ec-9df2-4771-ae4c-1832fe3fb12f",
   "metadata": {},
   "outputs": [
    {
     "name": "stderr",
     "output_type": "stream",
     "text": [
      "100%|██████████████████████████████████████████| 64/64 [00:00<00:00, 258.21it/s]\n"
     ]
    },
    {
     "name": "stdout",
     "output_type": "stream",
     "text": [
      "Snapping all geometries to a grid with precision 10^( -5 ) to avoid GEOS errors.\n"
     ]
    },
    {
     "name": "stderr",
     "output_type": "stream",
     "text": [
      "100%|███████████████████████████████████████████| 64/64 [00:00<00:00, 89.38it/s]\n",
      "100%|█████████████████████████████████████████| 64/64 [00:00<00:00, 1674.03it/s]\n"
     ]
    },
    {
     "name": "stdout",
     "output_type": "stream",
     "text": [
      "Identifying overlaps...\n"
     ]
    },
    {
     "name": "stderr",
     "output_type": "stream",
     "text": [
      "100%|█████████████████████████████████████| 3857/3857 [00:02<00:00, 1791.16it/s]\n"
     ]
    },
    {
     "name": "stdout",
     "output_type": "stream",
     "text": [
      "Resolving overlaps and filling gaps...\n"
     ]
    },
    {
     "name": "stderr",
     "output_type": "stream",
     "text": [
      "100%|███████████████████████████████████████████| 64/64 [00:00<00:00, 91.80it/s]\n",
      "100%|█████████████████████████████████████████| 64/64 [00:00<00:00, 1460.82it/s]\n",
      "Gaps to simplify: 0it [00:00, ?it/s]\n",
      "Gaps to fill: 0it [00:00, ?it/s]\n",
      "Gaps to simplify: 0it [00:00, ?it/s]\n",
      "Gaps to fill: 0it [00:00, ?it/s]\n",
      "Gaps to simplify: 0it [00:00, ?it/s]\n",
      "Gaps to fill: 0it [00:00, ?it/s]\n",
      "Gaps to simplify: 0it [00:00, ?it/s]\n",
      "Gaps to fill: 0it [00:00, ?it/s]\n",
      "Gaps to simplify: 0it [00:00, ?it/s]\n",
      "Gaps to fill: 0it [00:00, ?it/s]\n",
      "Gaps to simplify: 0it [00:00, ?it/s]\n",
      "Gaps to fill: 0it [00:00, ?it/s]\n",
      "Gaps to simplify: 0it [00:00, ?it/s]\n",
      "Gaps to fill: 0it [00:00, ?it/s]\n",
      "Gaps to simplify: 0it [00:00, ?it/s]\n",
      "Gaps to fill: 0it [00:00, ?it/s]\n",
      "Gaps to simplify: 0it [00:00, ?it/s]\n",
      "Gaps to fill: 0it [00:00, ?it/s]\n",
      "Gaps to simplify in region 9: 100%|██████████████| 7/7 [00:00<00:00, 136.38it/s]\n",
      "Gaps to fill: 0it [00:00, ?it/s]\n",
      "Gaps to simplify: 0it [00:00, ?it/s]\n",
      "Gaps to fill: 0it [00:00, ?it/s]\n",
      "Gaps to simplify: 0it [00:00, ?it/s]\n",
      "Gaps to fill: 0it [00:00, ?it/s]\n",
      "Gaps to simplify: 0it [00:00, ?it/s]\n",
      "Gaps to fill: 0it [00:00, ?it/s]\n",
      "Gaps to simplify: 0it [00:00, ?it/s]\n",
      "Gaps to fill: 0it [00:00, ?it/s]\n",
      "Gaps to simplify: 0it [00:00, ?it/s]\n",
      "Gaps to fill: 0it [00:00, ?it/s]\n",
      "Gaps to simplify: 0it [00:00, ?it/s]\n",
      "Gaps to fill: 0it [00:00, ?it/s]\n",
      "Gaps to simplify: 0it [00:00, ?it/s]\n",
      "Gaps to fill: 0it [00:00, ?it/s]\n",
      "Gaps to simplify: 0it [00:00, ?it/s]\n",
      "Gaps to fill: 0it [00:00, ?it/s]\n",
      "Gaps to simplify: 0it [00:00, ?it/s]\n",
      "Gaps to fill: 0it [00:00, ?it/s]\n",
      "Gaps to simplify in region 19: 100%|██████████████| 2/2 [00:00<00:00, 99.16it/s]\n",
      "Gaps to fill: 0it [00:00, ?it/s]\n",
      "Gaps to simplify: 0it [00:00, ?it/s]\n",
      "Gaps to fill: 0it [00:00, ?it/s]\n",
      "Gaps to simplify in region 21: 100%|█████████████| 5/5 [00:00<00:00, 118.33it/s]\n",
      "Gaps to fill: 0it [00:00, ?it/s]\n",
      "Gaps to simplify in region 22: 100%|██████████████| 1/1 [00:00<00:00, 79.66it/s]\n",
      "Gaps to fill: 0it [00:00, ?it/s]\n",
      "Gaps to simplify: 0it [00:00, ?it/s]\n",
      "Gaps to fill: 0it [00:00, ?it/s]\n",
      "Gaps to simplify: 0it [00:00, ?it/s]\n",
      "Gaps to fill: 0it [00:00, ?it/s]\n",
      "Gaps to simplify: 0it [00:00, ?it/s]\n",
      "Gaps to fill: 0it [00:00, ?it/s]\n",
      "Gaps to simplify: 0it [00:00, ?it/s]\n",
      "Gaps to fill: 0it [00:00, ?it/s]\n",
      "Gaps to simplify: 0it [00:00, ?it/s]\n",
      "Gaps to fill: 0it [00:00, ?it/s]\n",
      "Gaps to simplify in region 28: 100%|█████████████| 4/4 [00:00<00:00, 112.32it/s]\n",
      "Gaps to fill: 0it [00:00, ?it/s]\n",
      "Gaps to simplify: 0it [00:00, ?it/s]\n",
      "Gaps to fill: 0it [00:00, ?it/s]\n",
      "Gaps to simplify: 0it [00:00, ?it/s]\n",
      "Gaps to fill: 0it [00:00, ?it/s]\n",
      "Gaps to simplify: 0it [00:00, ?it/s]\n",
      "Gaps to fill: 0it [00:00, ?it/s]\n",
      "Gaps to simplify in region 32: 100%|█████████████| 2/2 [00:00<00:00, 157.62it/s]\n",
      "Gaps to fill: 0it [00:00, ?it/s]\n",
      "Gaps to simplify: 0it [00:00, ?it/s]\n",
      "Gaps to fill: 0it [00:00, ?it/s]\n",
      "Gaps to simplify: 0it [00:00, ?it/s]\n",
      "Gaps to fill: 0it [00:00, ?it/s]\n",
      "Gaps to simplify: 0it [00:00, ?it/s]\n",
      "Gaps to fill: 0it [00:00, ?it/s]\n",
      "Gaps to simplify in region 36: 100%|█████████████| 2/2 [00:00<00:00, 117.15it/s]\n",
      "Gaps to fill: 0it [00:00, ?it/s]\n",
      "Gaps to simplify: 0it [00:00, ?it/s]\n",
      "Gaps to fill: 0it [00:00, ?it/s]\n",
      "Gaps to simplify: 0it [00:00, ?it/s]\n",
      "Gaps to fill: 0it [00:00, ?it/s]\n",
      "Gaps to simplify: 0it [00:00, ?it/s]\n",
      "Gaps to fill: 0it [00:00, ?it/s]\n",
      "Gaps to simplify: 0it [00:00, ?it/s]\n",
      "Gaps to fill: 0it [00:00, ?it/s]\n",
      "Gaps to simplify: 0it [00:00, ?it/s]\n",
      "Gaps to fill: 0it [00:00, ?it/s]\n",
      "Gaps to simplify in region 42: 100%|█████████████| 2/2 [00:00<00:00, 120.33it/s]\n",
      "Gaps to fill: 0it [00:00, ?it/s]\n",
      "Gaps to simplify: 0it [00:00, ?it/s]\n",
      "Gaps to fill: 0it [00:00, ?it/s]\n",
      "Gaps to simplify: 0it [00:00, ?it/s]\n",
      "Gaps to fill: 0it [00:00, ?it/s]\n",
      "Gaps to simplify in region 45: 100%|██████████████| 1/1 [00:00<00:00, 91.21it/s]\n",
      "Gaps to fill: 0it [00:00, ?it/s]\n",
      "Gaps to simplify in region 46: 100%|█████████████| 2/2 [00:00<00:00, 121.60it/s]\n",
      "Gaps to fill: 0it [00:00, ?it/s]\n",
      "Gaps to simplify in region 47: 100%|█████████████| 1/1 [00:00<00:00, 136.63it/s]\n",
      "Gaps to fill: 0it [00:00, ?it/s]\n",
      "Gaps to simplify: 0it [00:00, ?it/s]\n",
      "Gaps to fill: 0it [00:00, ?it/s]\n",
      "Gaps to simplify in region 49: 100%|█████████████| 2/2 [00:00<00:00, 146.81it/s]\n",
      "Gaps to fill: 0it [00:00, ?it/s]\n",
      "Gaps to simplify in region 50: 100%|█████████████| 1/1 [00:00<00:00, 149.39it/s]\n",
      "Gaps to fill: 0it [00:00, ?it/s]\n",
      "Gaps to simplify: 0it [00:00, ?it/s]\n",
      "Gaps to fill: 0it [00:00, ?it/s]\n",
      "Gaps to simplify in region 52: 100%|██████████████| 1/1 [00:00<00:00, 97.97it/s]\n",
      "Gaps to fill: 0it [00:00, ?it/s]\n",
      "Gaps to simplify in region 53: 100%|█████████████| 2/2 [00:00<00:00, 168.49it/s]\n",
      "Gaps to fill: 0it [00:00, ?it/s]\n",
      "Gaps to simplify: 0it [00:00, ?it/s]\n",
      "Gaps to fill: 0it [00:00, ?it/s]\n",
      "Gaps to simplify: 0it [00:00, ?it/s]\n",
      "Gaps to fill: 0it [00:00, ?it/s]\n",
      "Gaps to simplify in region 56: 100%|██████████████| 1/1 [00:00<00:00, 60.86it/s]\n",
      "Gaps to fill: 0it [00:00, ?it/s]\n",
      "Gaps to simplify in region 57: 100%|██████████████| 6/6 [00:00<00:00, 14.51it/s]\n",
      "Gaps to fill in region 57: 100%|██████████████████| 3/3 [00:00<00:00, 23.25it/s]\n",
      "Gaps to simplify: 0it [00:00, ?it/s]\n",
      "Gaps to fill: 0it [00:00, ?it/s]\n",
      "Gaps to simplify in region 59: 100%|█████████████| 1/1 [00:00<00:00, 111.38it/s]\n",
      "Gaps to fill: 0it [00:00, ?it/s]\n",
      "Gaps to simplify: 0it [00:00, ?it/s]\n",
      "Gaps to fill: 0it [00:00, ?it/s]\n",
      "Gaps to simplify: 0it [00:00, ?it/s]\n",
      "Gaps to fill: 0it [00:00, ?it/s]\n",
      "Gaps to simplify in region 62: 100%|██████████████| 3/3 [00:00<00:00, 15.20it/s]\n",
      "Gaps to fill in region 62: 100%|██████████████████| 1/1 [00:00<00:00, 24.21it/s]\n",
      "Gaps to simplify in region 63: 100%|█████████████| 1/1 [00:00<00:00, 137.97it/s]\n",
      "Gaps to fill: 0it [00:00, ?it/s]\n"
     ]
    }
   ],
   "source": [
    "vest_base = add_vest_base(vest_base_data, start_col, year, county = county_df)"
   ]
  },
  {
   "cell_type": "code",
   "execution_count": 32,
   "id": "deed90e1-1f6a-4682-99a0-d3054d9a1129",
   "metadata": {},
   "outputs": [
    {
     "name": "stdout",
     "output_type": "stream",
     "text": [
      "[16.243729451676256, 16.243729451676256, 16.252820697141086, 16.252820697141086, 16.421809227295388, 16.421809227295388, 16.718139766237428, 16.718139766237428, 17.204330030183296, 17.204330030183296, 17.61344416742733, 17.61344416742733, 17.701014950733633, 17.701014950733633, 17.71546892647184, 17.71546892647184, 18.0235251743226, 18.0235251743226, 18.215961460311245, 18.215961460311245, 19.077555588345568, 19.077555588345568, 19.164537508034797, 19.164537508034797, 19.51385285519756, 19.51385285519756, 19.6613076648474, 19.6613076648474, 20.055828807593343, 20.055828807593343, 20.545338913063627, 20.545338913063627, 20.652991514179437, 20.65299151417944, 20.718904874420836, 20.718904874420836, 20.799525813197466, 20.799525813197466, 21.2002898129059, 21.2002898129059, 21.550086633033178, 21.550086633033178, 21.71516567542154, 21.71516567542154, 22.357956673821327, 22.357956673821327, 22.75378040894954, 22.75378040894954, 23.737173841635418, 23.737173841635418, 24.345932220307613, 24.345932220307613, 24.68319757279683, 24.68319757279683, 24.99716062257093, 24.99716062257093, 25.166259708983034, 25.166259708983038, 25.999470510989568, 25.999470510989568, 26.10884496599296, 26.10884496599296, 26.12605009496632, 26.12605009496632, 26.50062756613836, 26.50062756613836, 27.013292745030608, 27.013292745030608, 27.054122974417556, 27.054122974417556, 28.29006227079316, 28.29006227079316, 28.47978338144399, 28.47978338144399, 29.075100533776894, 29.075100533776894, 29.380402202355576, 29.380402202355576, 29.54339648085048, 29.54339648085048, 29.997118300125564, 29.997118300125564, 30.17431419758306, 30.17431419758306, 30.364786481247616, 30.364786481247616, 30.679242276291912, 30.679242276291912, 30.808121744604676, 30.808121744604676, 31.26640772136164, 31.26640772136164, 31.938505443152067, 31.938505443152067, 32.95341319821395, 32.95341319821395, 33.33297967736209, 33.33297967736209, 33.403129629092106, 33.403129629092106, 33.51516818155987, 33.51516818155987, 34.0867964603966, 34.0867964603966, 34.34730548661722, 34.34730548661722, 34.722193045450744, 34.722193045450744, 35.93986574981682, 35.93986574981682, 36.37332431525288, 36.37332431525288, 36.37675441042586, 36.37675441042586, 37.71186980239108, 37.71186980239108, 37.93384599913052, 37.93384599913052, 37.948228765126615, 37.948228765126615, 40.91969464047971, 40.91969464047971, 40.98869599018183, 40.98869599018183, 41.031551877709376, 41.031551877709376, 41.574044975857454, 41.574044975857454, 41.65176009391743, 41.65176009391743, 41.85426302630853, 41.85426302630854, 41.95152103710402, 41.95152103710402, 42.41668643953304, 42.41668643953304, 42.493447585051186, 42.493447585051186, 42.65398085032925, 42.65398085032925, 42.791853436819004, 42.791853436819004, 43.421886317885594, 43.421886317885594, 43.7568075763945, 43.7568075763945, 44.531908982930645, 44.531908982930645, 44.542343380762, 44.542343380762, 45.13491213799804, 45.13491213799804, 45.40875868564003, 45.40875868564003, 45.610041761320915, 45.610041761320915, 46.180704649004305, 46.180704649004305, 46.32611775442729, 46.32611775442729, 48.37440133524365, 48.37440133524365, 48.443959233413636, 48.44395923341364, 48.50030124224993, 48.50030124224994, 48.984023100081146, 48.984023100081146, 48.99682347620177, 48.99682347620177, 49.36910117245729, 49.36910117245729, 50.36106217711193, 50.36106217711193, 50.42081573668585, 50.42081573668585, 52.11753257229155, 52.11753257229155, 52.20929922099883, 52.20929922099883, 52.65937043714739, 52.659370437147395, 52.66066857991814, 52.66066857991814, 53.11726214009893, 53.11726214009893, 54.239642174546994, 54.239642174546994, 54.2938242054827, 54.2938242054827, 54.3132594200514, 54.3132594200514, 54.718091959798635, 54.718091959798635, 54.91477670831557, 54.91477670831557, 55.01237733663094, 55.01237733663094, 56.52589056733066, 56.52589056733066, 57.34013268797924, 57.34013268797924, 58.110334817787624, 58.11033481778763, 59.39618836464756, 59.39618836464756, 59.705685335590765, 59.705685335590765, 59.90788705952373, 59.90788705952373, 60.40532367579736, 60.40532367579736, 60.71321411473099, 60.71321411473099, 60.892751678983686, 60.892751678983686, 61.16842426934868, 61.16842426934868, 61.289184679985105, 61.289184679985105, 61.513830701569965, 61.51383070156997, 61.51611737975707, 61.51611737975707, 62.675531211721484, 62.675531211721484, 63.06015235291078, 63.06015235291078, 63.16720961846583, 63.16720961846583, 63.80702262433523, 63.80702262433523, 63.97936467466329, 63.97936467466329, 64.0526681000544, 64.0526681000544, 64.30235398906511, 64.30235398906511, 65.06376687484115, 65.06376687484115, 65.1178227504762, 65.1178227504762, 65.8472515671422, 65.8472515671422, 66.43809581641929, 66.43809581641929, 66.61553626777452, 66.61553626777452, 68.79386808447912, 68.79386808447912, 70.80491796115918, 70.80491796115918, 70.881823298573, 70.881823298573, 70.89884136499758, 70.89884136499758, 71.13627411716138, 71.13627411716138, 71.83111904130709, 71.83111904130709, 72.11158843342744, 72.11158843342746, 72.19050352199892, 72.19050352199892, 72.97282459306051, 72.97282459306051, 73.3272121221058, 73.32721212210582, 74.06879238132106, 74.06879238132106, 74.08993281270281, 74.08993281270281, 75.21305969063711, 75.21305969063711, 75.37921991644224, 75.37921991644224, 75.7295194676599, 75.72951946765991, 76.02457523651032, 76.02457523651032, 79.81649531695135, 79.81649531695135, 81.18192323194705, 81.18192323194705, 81.22632140509674, 81.22632140509675, 81.71959223701282, 81.71959223701282, 82.86822451271914, 82.86822451271914, 82.97324620413863, 82.97324620413865, 84.4940237276542, 84.4940237276542, 85.33212904349865, 85.33212904349865, 85.60530835312792, 85.60530835312792, 86.14472424861411, 86.14472424861411, 86.28127684311748, 86.2812768431175, 86.49005596409722, 86.49005596409722, 88.81802962034274, 88.81802962034274, 89.40438806176822, 89.40438806176823, 89.43511574005512, 89.43511574005512, 89.70824430693011, 89.70824430693011, 89.87360508500088, 89.87360508500088, 89.9269773535654, 89.9269773535654, 90.3011299386332, 90.3011299386332, 90.596111924309, 90.596111924309, 91.23521188663983, 91.23521188663983, 91.33394855070053, 91.33394855070053, 91.61343242941271, 91.61343242941271, 91.64017528711523, 91.64017528711523, 91.665258749566, 91.665258749566, 92.09387395475689, 92.0938739547569, 92.91245164942387, 92.91245164942387, 93.41019771399671, 93.41019771399671, 93.51893027111497, 93.51893027111497, 93.51978996210045, 93.51978996210045, 94.26577356230614, 94.26577356230614, 94.61989514437806, 94.61989514437806, 94.6530556792929, 94.6530556792929, 95.23705837743064, 95.23705837743066, 95.90353452681443, 95.90353452681443, 95.95115853849043, 95.95115853849043, 97.03983827510046, 97.03983827510046, 97.08800216110762, 97.08800216110762, 97.14028550291292, 97.14028550291292, 97.14277735472027, 97.14277735472027, 98.63147927491964, 98.63147927491964, 99.01574551606264, 99.01574551606264, 99.74653754897741, 99.74653754897741, 100.4369215069485, 100.4369215069485, 100.5298844273927, 100.5298844273927, 100.54493248009194, 100.54493248009194, 100.91281558296774, 100.91281558296774, 100.94808453176837, 100.94808453176837, 101.23905939721757, 101.23905939721757, 101.32460540764477, 101.32460540764477, 101.84885338895762, 101.84885338895762, 102.26701963379072, 102.26701963379072, 103.14603060225537, 103.14603060225537, 103.62274430448124, 103.62274430448124, 104.03747590910983, 104.03747590910983, 104.43079486346599, 104.43079486346599, 104.46098970557597, 104.46098970557598, 104.92864744018532, 104.92864744018533, 105.17052436568781, 105.17052436568781, 105.50341906383925, 105.50341906383925, 105.63603846888968, 105.63603846888968, 105.6429862731106, 105.6429862731106, 105.72299261139179, 105.72299261139179, 105.96825343967488, 105.9682534396749, 106.1494153304728, 106.1494153304728, 106.21471126095942, 106.21471126095942, 106.21811745628955, 106.21811745628955, 106.47811765341345, 106.47811765341345, 106.54338672759236, 106.54338672759236, 106.65714955086024, 106.65714955086024, 107.20493982622435, 107.20493982622435, 107.30803167799213, 107.30803167799213, 107.40839644591615, 107.40839644591615, 107.59461615018417, 107.59461615018417, 107.68246638722238, 107.68246638722238, 108.8263207358925, 108.82632073589251, 109.48915474316759, 109.48915474316759, 109.56153530326202, 109.56153530326202, 109.82550286777168, 109.82550286777168, 109.85405506426787, 109.85405506426787, 110.51052117899059, 110.51052117899059, 110.5615652250381, 110.5615652250381, 110.58225749501342, 110.58225749501342, 110.62227064757201, 110.62227064757201, 111.108211809924, 111.108211809924, 112.10110512084538, 112.10110512084538, 112.31904581382776, 112.31904581382776, 112.4320056608778, 112.4320056608778, 112.60187369257984, 112.60187369257984, 112.73275916393195, 112.73275916393195, 112.82262400659377, 112.82262400659377, 112.83016802245444, 112.83016802245444, 113.09771762642194, 113.09771762642194, 113.1429533173675, 113.1429533173675, 113.51049003994025, 113.51049003994027, 113.56104752849893, 113.56104752849893, 113.90457201417588, 113.90457201417588, 114.18022133911768, 114.18022133911768, 114.2218475699842, 114.2218475699842, 114.34817116269632, 114.34817116269632, 114.42711401977857, 114.42711401977857, 115.1910958985431, 115.1910958985431, 115.4914165630349, 115.4914165630349, 116.08472701438309, 116.08472701438309, 116.08894710013637, 116.08894710013637, 116.36464610543209, 116.3646461054321, 116.52615715054316, 116.52615715054316, 116.87856822629684, 116.87856822629684, 117.87897113196254, 117.87897113196254, 118.1686496997045, 118.1686496997045]\n"
     ]
    }
   ],
   "source": [
    "borders = check_small_boundary_lengths(vest_base)\n",
    "print(borders[2000:2500])"
   ]
  },
  {
   "cell_type": "code",
   "execution_count": 33,
   "id": "89713612-0dbf-4b19-a680-3edc5b21deff",
   "metadata": {},
   "outputs": [
    {
     "name": "stdout",
     "output_type": "stream",
     "text": [
      "Snapping all geometries to a grid with precision 10^( -5 ) to avoid GEOS errors.\n",
      "Identifying overlaps...\n"
     ]
    },
    {
     "name": "stderr",
     "output_type": "stream",
     "text": [
      "100%|█████████████████████████████████████| 3796/3796 [00:00<00:00, 3980.90it/s]\n"
     ]
    },
    {
     "name": "stdout",
     "output_type": "stream",
     "text": [
      "Resolving overlaps...\n",
      "Filling gaps...\n"
     ]
    },
    {
     "name": "stderr",
     "output_type": "stream",
     "text": [
      "Gaps to simplify: 0it [00:00, ?it/s]\n",
      "Gaps to fill: 0it [00:00, ?it/s]\n"
     ]
    },
    {
     "name": "stdout",
     "output_type": "stream",
     "text": [
      "Converting small rook adjacencies to queen...\n"
     ]
    },
    {
     "name": "stderr",
     "output_type": "stream",
     "text": [
      "100%|█████████████████████████████████████| 3753/3753 [00:03<00:00, 1229.68it/s]\n",
      "100%|███████████████████████████████████████████| 4/4 [00:00<00:00, 3051.51it/s]\n",
      "100%|███████████████████████████████████████████| 4/4 [00:00<00:00, 3074.44it/s]\n",
      "100%|███████████████████████████████████████████| 6/6 [00:00<00:00, 3433.73it/s]\n",
      "100%|███████████████████████████████████████████| 4/4 [00:00<00:00, 3223.91it/s]\n",
      "100%|███████████████████████████████████████████| 4/4 [00:00<00:00, 3574.18it/s]\n",
      "100%|███████████████████████████████████████████| 5/5 [00:00<00:00, 3420.01it/s]\n",
      "100%|███████████████████████████████████████████| 4/4 [00:00<00:00, 3294.17it/s]\n",
      "100%|███████████████████████████████████████████| 4/4 [00:00<00:00, 3244.48it/s]\n",
      "100%|███████████████████████████████████████████| 4/4 [00:00<00:00, 3005.59it/s]\n",
      "100%|███████████████████████████████████████████| 4/4 [00:00<00:00, 2819.23it/s]\n",
      "100%|███████████████████████████████████████████| 5/5 [00:00<00:00, 3168.86it/s]\n",
      "100%|███████████████████████████████████████████| 5/5 [00:00<00:00, 3180.88it/s]\n",
      "100%|███████████████████████████████████████████| 4/4 [00:00<00:00, 3158.96it/s]\n",
      "100%|███████████████████████████████████████████| 4/4 [00:00<00:00, 3262.78it/s]\n",
      "100%|███████████████████████████████████████████| 4/4 [00:00<00:00, 3192.01it/s]\n",
      "100%|███████████████████████████████████████████| 4/4 [00:00<00:00, 1380.27it/s]\n",
      "100%|███████████████████████████████████████████| 4/4 [00:00<00:00, 2909.18it/s]\n",
      "100%|███████████████████████████████████████████| 4/4 [00:00<00:00, 2937.19it/s]\n",
      "100%|███████████████████████████████████████████| 4/4 [00:00<00:00, 2851.33it/s]\n",
      "100%|███████████████████████████████████████████| 4/4 [00:00<00:00, 2789.69it/s]\n",
      "100%|███████████████████████████████████████████| 4/4 [00:00<00:00, 3341.41it/s]\n",
      "100%|███████████████████████████████████████████| 4/4 [00:00<00:00, 3236.35it/s]\n",
      "100%|███████████████████████████████████████████| 6/6 [00:00<00:00, 4137.75it/s]\n",
      "100%|███████████████████████████████████████████| 4/4 [00:00<00:00, 3072.19it/s]\n",
      "100%|███████████████████████████████████████████| 4/4 [00:00<00:00, 3213.41it/s]\n",
      "100%|███████████████████████████████████████████| 5/5 [00:00<00:00, 3267.61it/s]\n",
      "100%|███████████████████████████████████████████| 6/6 [00:00<00:00, 3647.22it/s]\n",
      "100%|███████████████████████████████████████████| 5/5 [00:00<00:00, 3398.95it/s]\n",
      "100%|███████████████████████████████████████████| 4/4 [00:00<00:00, 2668.56it/s]\n",
      "100%|███████████████████████████████████████████| 4/4 [00:00<00:00, 3302.60it/s]\n",
      "100%|███████████████████████████████████████████| 4/4 [00:00<00:00, 3037.15it/s]\n",
      "100%|███████████████████████████████████████████| 4/4 [00:00<00:00, 3375.70it/s]\n",
      "100%|███████████████████████████████████████████| 4/4 [00:00<00:00, 2969.42it/s]\n",
      "100%|███████████████████████████████████████████| 4/4 [00:00<00:00, 2947.51it/s]\n",
      "100%|███████████████████████████████████████████| 4/4 [00:00<00:00, 3680.02it/s]\n",
      "100%|███████████████████████████████████████████| 4/4 [00:00<00:00, 3228.25it/s]\n",
      "100%|███████████████████████████████████████████| 4/4 [00:00<00:00, 3158.96it/s]\n",
      "100%|███████████████████████████████████████████| 4/4 [00:00<00:00, 3350.08it/s]\n",
      "100%|███████████████████████████████████████████| 6/6 [00:00<00:00, 3117.28it/s]\n",
      "100%|███████████████████████████████████████████| 7/7 [00:00<00:00, 3589.70it/s]\n",
      "100%|███████████████████████████████████████████| 7/7 [00:00<00:00, 3546.34it/s]\n",
      "100%|███████████████████████████████████████████| 6/6 [00:00<00:00, 3687.30it/s]\n",
      "100%|███████████████████████████████████████████| 4/4 [00:00<00:00, 3305.86it/s]\n",
      "100%|███████████████████████████████████████████| 4/4 [00:00<00:00, 3043.76it/s]\n",
      "100%|███████████████████████████████████████████| 5/5 [00:00<00:00, 3576.32it/s]\n",
      "100%|███████████████████████████████████████████| 4/4 [00:00<00:00, 3311.07it/s]\n",
      "100%|███████████████████████████████████████████| 6/6 [00:00<00:00, 3535.52it/s]\n",
      "100%|███████████████████████████████████████████| 4/4 [00:00<00:00, 3135.34it/s]\n",
      "100%|███████████████████████████████████████████| 4/4 [00:00<00:00, 3184.74it/s]\n",
      "100%|███████████████████████████████████████████| 4/4 [00:00<00:00, 3249.51it/s]\n",
      "100%|███████████████████████████████████████████| 4/4 [00:00<00:00, 3197.49it/s]\n",
      "100%|███████████████████████████████████████████| 5/5 [00:00<00:00, 3396.75it/s]\n",
      "100%|███████████████████████████████████████████| 4/4 [00:00<00:00, 3265.32it/s]\n",
      "100%|███████████████████████████████████████████| 5/5 [00:00<00:00, 3523.44it/s]\n",
      "100%|███████████████████████████████████████████| 4/4 [00:00<00:00, 3364.19it/s]\n",
      "100%|███████████████████████████████████████████| 4/4 [00:00<00:00, 3370.27it/s]\n",
      "100%|███████████████████████████████████████████| 4/4 [00:00<00:00, 3075.00it/s]\n",
      "100%|███████████████████████████████████████████| 5/5 [00:00<00:00, 3513.41it/s]\n",
      "100%|███████████████████████████████████████████| 4/4 [00:00<00:00, 3526.85it/s]\n",
      "100%|███████████████████████████████████████████| 4/4 [00:00<00:00, 2996.47it/s]\n",
      "100%|███████████████████████████████████████████| 4/4 [00:00<00:00, 3350.08it/s]\n",
      "100%|███████████████████████████████████████████| 5/5 [00:00<00:00, 3287.59it/s]\n",
      "100%|███████████████████████████████████████████| 5/5 [00:00<00:00, 3015.32it/s]\n",
      "100%|███████████████████████████████████████████| 4/4 [00:00<00:00, 2824.92it/s]\n",
      "100%|███████████████████████████████████████████| 6/6 [00:00<00:00, 3707.95it/s]\n",
      "100%|███████████████████████████████████████████| 5/5 [00:00<00:00, 3446.43it/s]\n",
      "100%|███████████████████████████████████████████| 4/4 [00:00<00:00, 3407.23it/s]\n",
      "100%|███████████████████████████████████████████| 5/5 [00:00<00:00, 3396.75it/s]\n",
      "100%|███████████████████████████████████████████| 4/4 [00:00<00:00, 3048.74it/s]\n",
      "100%|███████████████████████████████████████████| 4/4 [00:00<00:00, 2917.78it/s]\n",
      "100%|███████████████████████████████████████████| 6/6 [00:00<00:00, 3215.26it/s]\n",
      "100%|███████████████████████████████████████████| 4/4 [00:00<00:00, 3355.44it/s]\n",
      "100%|███████████████████████████████████████████| 5/5 [00:00<00:00, 3287.59it/s]\n",
      "100%|█████████████████████████████████████| 3753/3753 [00:03<00:00, 1147.25it/s]\n"
     ]
    }
   ],
   "source": [
    "vest_base = do_smart_repair(vest_base, min_rook_length = 30)"
   ]
  },
  {
   "cell_type": "code",
   "execution_count": 34,
   "id": "280e06e3-fe66-4c29-a3cd-95e53e283f1e",
   "metadata": {},
   "outputs": [
    {
     "name": "stderr",
     "output_type": "stream",
     "text": [
      "100%|█████████████████████████████████████| 3753/3753 [00:03<00:00, 1228.48it/s]\n"
     ]
    },
    {
     "data": {
      "text/plain": [
       "True"
      ]
     },
     "execution_count": 34,
     "metadata": {},
     "output_type": "execute_result"
    }
   ],
   "source": [
    "maup.doctor(vest_base)"
   ]
  },
  {
   "cell_type": "code",
   "execution_count": 35,
   "id": "10e48467-d392-4312-b15f-bf18106f354c",
   "metadata": {},
   "outputs": [
    {
     "name": "stderr",
     "output_type": "stream",
     "text": [
      "100%|█████████████████████████████████████| 3753/3753 [00:02<00:00, 1260.93it/s]\n",
      "100%|██████████████████████████████████████| 3753/3753 [00:15<00:00, 238.59it/s]\n"
     ]
    }
   ],
   "source": [
    "# vap and population have the same GEOID20\n",
    "blocks_to_precincts_assignment = maup.assign(population_df.geometry, vest_base.geometry)"
   ]
  },
  {
   "cell_type": "code",
   "execution_count": 36,
   "id": "ac015a92-391c-48c4-b26a-5c511b58e3ab",
   "metadata": {},
   "outputs": [],
   "source": [
    "pop_col = ['TOTPOP', 'HISP', 'NH_WHITE', 'NH_BLACK', 'NH_AMIN', 'NH_ASIAN', 'NH_NHPI', 'NH_OTHER', 'NH_2MORE', 'H_WHITE', 'H_BLACK', 'H_AMIN', 'H_ASIAN', 'H_NHPI', 'H_OTHER', 'H_2MORE', 'VAP', 'HVAP', 'WVAP', 'BVAP', 'AMINVAP', 'ASIANVAP', 'NHPIVAP', 'OTHERVAP', '2MOREVAP']"
   ]
  },
  {
   "cell_type": "code",
   "execution_count": 37,
   "id": "f91b6866-727d-40c9-9d43-4a0e6ae8c0e2",
   "metadata": {},
   "outputs": [],
   "source": [
    "vest_base[pop_col] = population_df[pop_col].groupby(blocks_to_precincts_assignment).sum()"
   ]
  },
  {
   "cell_type": "code",
   "execution_count": 38,
   "id": "ead5880d-f5f1-44f0-8024-ff4789ff2f15",
   "metadata": {},
   "outputs": [],
   "source": [
    "election_df = gpd.GeoDataFrame(vest_base)"
   ]
  },
  {
   "cell_type": "markdown",
   "id": "cf1aefdb-30e0-4d1f-9261-01a513f4e1d3",
   "metadata": {},
   "source": [
    "### Check if the population agrees"
   ]
  },
  {
   "cell_type": "code",
   "execution_count": 40,
   "id": "d6ff200d-d1d6-4f7d-ba3b-142cddc0eb85",
   "metadata": {},
   "outputs": [
    {
     "name": "stdout",
     "output_type": "stream",
     "text": [
      "population agrees\n"
     ]
    }
   ],
   "source": [
    "check_population(population_df, vest_base)"
   ]
  },
  {
   "cell_type": "markdown",
   "id": "2b677d1a-cbe3-47aa-ae8a-761d0dfc7ad1",
   "metadata": {},
   "source": [
    "# Add more vest data"
   ]
  },
  {
   "cell_type": "code",
   "execution_count": 42,
   "id": "a404637a-46a1-41f4-bd81-6842a9a7274c",
   "metadata": {},
   "outputs": [],
   "source": [
    "vest19 = gpd.read_file(vest19_data)"
   ]
  },
  {
   "cell_type": "code",
   "execution_count": 43,
   "id": "d94c3765-b784-4e9b-9b29-0c8a3bbdbf0d",
   "metadata": {},
   "outputs": [
    {
     "data": {
      "text/plain": [
       "Index(['STATEFP', 'COUNTYFP', 'VTDST', 'NAME', 'G19GOVRRIS', 'G19GOVRABR',\n",
       "       'G19GOVRLAN', 'G19GOVDEDW', 'G19GOVDDAN', 'G19GOVILAN', 'G19LTGRNUN',\n",
       "       'G19LTGDJON', 'G19SOSRARD', 'G19SOSRKEN', 'G19SOSRSMI', 'G19SOSDCOL',\n",
       "       'G19ATGRLAN', 'G19ATGDJAC', 'G19TRERSCH', 'G19TREDEDW', 'G19TRENKEN',\n",
       "       'G19AGRRSTR', 'G19AGRRZAU', 'G19AGRDGR1', 'G19AGRDGR2', 'G19AGRDWIL',\n",
       "       'G19INSRDON', 'G19INSRTEM', 'R19GOVRRIS', 'R19GOVDEDW', 'R19SOSRARD',\n",
       "       'R19SOSDCOL', 'geometry'],\n",
       "      dtype='object')"
      ]
     },
     "execution_count": 43,
     "metadata": {},
     "output_type": "execute_result"
    }
   ],
   "source": [
    "vest19.columns"
   ]
  },
  {
   "cell_type": "code",
   "execution_count": 44,
   "id": "5528f64a-1b5c-4b9f-b7cf-aefa45d4d25f",
   "metadata": {},
   "outputs": [
    {
     "name": "stderr",
     "output_type": "stream",
     "text": [
      "100%|█████████████████████████████████████| 3752/3752 [00:03<00:00, 1184.47it/s]\n"
     ]
    },
    {
     "name": "stdout",
     "output_type": "stream",
     "text": [
      "There are 2 overlaps.\n",
      "There are 1 holes.\n",
      "There are some invalid geometries.\n",
      "Snapping all geometries to a grid with precision 10^( -5 ) to avoid GEOS errors.\n",
      "Identifying overlaps...\n"
     ]
    },
    {
     "name": "stderr",
     "output_type": "stream",
     "text": [
      "100%|█████████████████████████████████████| 3797/3797 [00:01<00:00, 3753.85it/s]\n"
     ]
    },
    {
     "name": "stdout",
     "output_type": "stream",
     "text": [
      "Resolving overlaps...\n",
      "Assigning order 2 pieces...\n",
      "Filling gaps...\n"
     ]
    },
    {
     "name": "stderr",
     "output_type": "stream",
     "text": [
      "Gaps to simplify: 0it [00:00, ?it/s]\n",
      "Gaps to fill: 0it [00:00, ?it/s]\n",
      "100%|█████████████████████████████████████| 3752/3752 [00:03<00:00, 1166.72it/s]\n",
      "100%|█████████████████████████████████████| 3752/3752 [00:02<00:00, 1266.46it/s]\n",
      "100%|██████████████████████████████████████| 3752/3752 [00:15<00:00, 239.01it/s]\n",
      "100%|█████████████████████████████████████| 3753/3753 [00:02<00:00, 1327.49it/s]\n",
      "100%|██████████████████████████████████████| 3753/3753 [00:15<00:00, 235.28it/s]\n"
     ]
    },
    {
     "name": "stdout",
     "output_type": "stream",
     "text": [
      "population agrees\n"
     ]
    }
   ],
   "source": [
    "# check the result here\n",
    "election_df = add_vest(vest19, election_df, '19', population_df, start_col)"
   ]
  },
  {
   "cell_type": "code",
   "execution_count": 45,
   "id": "49d7e37a-7bbb-40b4-88ae-ba38d6dec0dd",
   "metadata": {},
   "outputs": [
    {
     "data": {
      "text/plain": [
       "Index(['STATEFP10', 'COUNTYFP10', 'VTDST10', 'NAME10', 'G18SOSRARD',\n",
       "       'G18SOSREDM', 'G18SOSRSTO', 'G18SOSRKEN', 'G18SOSRCRO', 'G18SOSRCLO',\n",
       "       'G18SOSDCOL', 'G18SOSDFRE', 'G18SOSNMOR', 'R18SOSRARD', 'R18SOSDCOL',\n",
       "       'geometry'],\n",
       "      dtype='object')"
      ]
     },
     "execution_count": 45,
     "metadata": {},
     "output_type": "execute_result"
    }
   ],
   "source": [
    "vest18 = gpd.read_file(vest18_data)\n",
    "vest18.columns"
   ]
  },
  {
   "cell_type": "code",
   "execution_count": 46,
   "id": "f995422e-1248-4aa9-b855-7d76d7616384",
   "metadata": {},
   "outputs": [
    {
     "name": "stderr",
     "output_type": "stream",
     "text": [
      "100%|█████████████████████████████████████| 3710/3710 [00:03<00:00, 1107.53it/s]\n"
     ]
    },
    {
     "name": "stdout",
     "output_type": "stream",
     "text": [
      "There are 1 overlaps.\n",
      "Snapping all geometries to a grid with precision 10^( -5 ) to avoid GEOS errors.\n",
      "Identifying overlaps...\n"
     ]
    },
    {
     "name": "stderr",
     "output_type": "stream",
     "text": [
      "100%|█████████████████████████████████████| 3748/3748 [00:00<00:00, 3903.35it/s]\n"
     ]
    },
    {
     "name": "stdout",
     "output_type": "stream",
     "text": [
      "Resolving overlaps...\n",
      "Filling gaps...\n"
     ]
    },
    {
     "name": "stderr",
     "output_type": "stream",
     "text": [
      "Gaps to simplify: 100%|███████████████████████████| 1/1 [00:00<00:00,  3.56it/s]\n",
      "Gaps to fill: 0it [00:00, ?it/s]\n",
      "100%|█████████████████████████████████████| 3710/3710 [00:03<00:00, 1178.67it/s]\n",
      "100%|█████████████████████████████████████| 3710/3710 [00:03<00:00, 1217.17it/s]\n",
      "100%|██████████████████████████████████████| 3710/3710 [00:16<00:00, 225.28it/s]\n",
      "100%|█████████████████████████████████████| 3753/3753 [00:03<00:00, 1151.07it/s]\n",
      "100%|██████████████████████████████████████| 3753/3753 [00:16<00:00, 231.15it/s]\n"
     ]
    },
    {
     "name": "stdout",
     "output_type": "stream",
     "text": [
      "population agrees\n"
     ]
    }
   ],
   "source": [
    "# check the result here\n",
    "election_df = add_vest(vest18, election_df, '18', population_df, start_col)"
   ]
  },
  {
   "cell_type": "code",
   "execution_count": 47,
   "id": "4d7476dd-c003-4fa5-ab9b-8ed6f75bed39",
   "metadata": {
    "tags": []
   },
   "outputs": [
    {
     "data": {
      "text/plain": [
       "Index(['STATEFP10', 'COUNTYFP10', 'VTDST10', 'NAME10', 'G16PRERTRU',\n",
       "       'G16PREDCLI', 'G16PRELJOH', 'G16PREGSTE', 'G16PREOMCM', 'G16PRECCAS',\n",
       "       'G16PREOOTH', 'G16USSRKEN', 'G16USSRBOU', 'G16USSRFLE', 'G16USSRMAN',\n",
       "       'G16USSRDUK', 'G16USSRCRA', 'G16USSRCAO', 'G16USSRMAR', 'G16USSRPAT',\n",
       "       'G16USSDCAM', 'G16USSDFAY', 'G16USSDEDW', 'G16USSDLAN', 'G16USSDPEL',\n",
       "       'G16USSDWIL', 'G16USSDMEN', 'G16USSLCLE', 'G16USSLGIL', 'G16USSOLAN',\n",
       "       'G16USSOTAY', 'G16USSNBIL', 'G16USSNHEB', 'G16USSNMAR', 'G16USSNWEL',\n",
       "       'R16USSRKEN', 'R16USSDCAM', 'geometry'],\n",
       "      dtype='object')"
      ]
     },
     "execution_count": 47,
     "metadata": {},
     "output_type": "execute_result"
    }
   ],
   "source": [
    "vest16 = gpd.read_file(vest16_data)\n",
    "vest16.columns"
   ]
  },
  {
   "cell_type": "code",
   "execution_count": 48,
   "id": "9cda5e9c-fabd-4499-841b-a3d49d5d501b",
   "metadata": {},
   "outputs": [
    {
     "name": "stderr",
     "output_type": "stream",
     "text": [
      "100%|█████████████████████████████████████| 3704/3704 [00:03<00:00, 1007.43it/s]\n"
     ]
    },
    {
     "name": "stdout",
     "output_type": "stream",
     "text": [
      "There are 1 overlaps.\n",
      "Snapping all geometries to a grid with precision 10^( -5 ) to avoid GEOS errors.\n",
      "Identifying overlaps...\n"
     ]
    },
    {
     "name": "stderr",
     "output_type": "stream",
     "text": [
      "100%|█████████████████████████████████████| 3742/3742 [00:00<00:00, 3774.04it/s]\n"
     ]
    },
    {
     "name": "stdout",
     "output_type": "stream",
     "text": [
      "Resolving overlaps...\n",
      "Filling gaps...\n"
     ]
    },
    {
     "name": "stderr",
     "output_type": "stream",
     "text": [
      "Gaps to simplify: 100%|███████████████████████████| 1/1 [00:00<00:00,  3.56it/s]\n",
      "Gaps to fill: 0it [00:00, ?it/s]\n",
      "100%|█████████████████████████████████████| 3704/3704 [00:03<00:00, 1136.21it/s]\n",
      "100%|█████████████████████████████████████| 3704/3704 [00:03<00:00, 1087.55it/s]\n",
      "100%|██████████████████████████████████████| 3704/3704 [00:15<00:00, 236.02it/s]\n",
      "100%|█████████████████████████████████████| 3753/3753 [00:02<00:00, 1325.14it/s]\n",
      "100%|██████████████████████████████████████| 3753/3753 [00:15<00:00, 239.16it/s]\n"
     ]
    },
    {
     "name": "stdout",
     "output_type": "stream",
     "text": [
      "population agrees\n"
     ]
    }
   ],
   "source": [
    "election_df = add_vest(vest16, election_df, '16', population_df, start_col)"
   ]
  },
  {
   "cell_type": "markdown",
   "id": "10cf83d4-6005-485b-8193-c0149869a97e",
   "metadata": {},
   "source": [
    "## Add the district data"
   ]
  },
  {
   "cell_type": "code",
   "execution_count": 50,
   "id": "a0ccb606-7fe4-4b0a-998b-337d31f4abc5",
   "metadata": {},
   "outputs": [],
   "source": [
    "cong_df = gpd.read_file(cd_data)\n",
    "cong_df = cong_df.to_crs(cong_df.estimate_utm_crs())\n",
    "send = gpd.read_file(send_data)\n",
    "send = send.to_crs(send.estimate_utm_crs())\n",
    "hdist = gpd.read_file(hdist_data)\n",
    "hdist = hdist.to_crs(hdist.estimate_utm_crs())"
   ]
  },
  {
   "cell_type": "code",
   "execution_count": 51,
   "id": "018ba38f-e7c4-4e89-a051-8ba52f5e62f4",
   "metadata": {},
   "outputs": [
    {
     "data": {
      "text/html": [
       "<div>\n",
       "<style scoped>\n",
       "    .dataframe tbody tr th:only-of-type {\n",
       "        vertical-align: middle;\n",
       "    }\n",
       "\n",
       "    .dataframe tbody tr th {\n",
       "        vertical-align: top;\n",
       "    }\n",
       "\n",
       "    .dataframe thead th {\n",
       "        text-align: right;\n",
       "    }\n",
       "</style>\n",
       "<table border=\"1\" class=\"dataframe\">\n",
       "  <thead>\n",
       "    <tr style=\"text-align: right;\">\n",
       "      <th></th>\n",
       "      <th>ID</th>\n",
       "      <th>AREA</th>\n",
       "      <th>OBJECTID</th>\n",
       "      <th>DISTRICT_I</th>\n",
       "      <th>NAME</th>\n",
       "      <th>NUM_MEMBER</th>\n",
       "      <th>IDEAL_POP</th>\n",
       "      <th>IS_LOCKED</th>\n",
       "      <th>SHAPE_AREA</th>\n",
       "      <th>SHAPE_LEN</th>\n",
       "      <th>geometry</th>\n",
       "    </tr>\n",
       "  </thead>\n",
       "  <tbody>\n",
       "    <tr>\n",
       "      <th>0</th>\n",
       "      <td>5</td>\n",
       "      <td>15208.31440</td>\n",
       "      <td>5</td>\n",
       "      <td>5</td>\n",
       "      <td>District 5</td>\n",
       "      <td>1</td>\n",
       "      <td>776292</td>\n",
       "      <td>0</td>\n",
       "      <td>3.746101</td>\n",
       "      <td>19.820423</td>\n",
       "      <td>POLYGON ((586970.408 3652557.686, 587019.738 3...</td>\n",
       "    </tr>\n",
       "    <tr>\n",
       "      <th>1</th>\n",
       "      <td>3</td>\n",
       "      <td>8612.33105</td>\n",
       "      <td>3</td>\n",
       "      <td>3</td>\n",
       "      <td>District 3</td>\n",
       "      <td>1</td>\n",
       "      <td>776292</td>\n",
       "      <td>0</td>\n",
       "      <td>2.082512</td>\n",
       "      <td>9.691517</td>\n",
       "      <td>POLYGON ((619361.700 3374642.200, 619400.659 3...</td>\n",
       "    </tr>\n",
       "    <tr>\n",
       "      <th>2</th>\n",
       "      <td>4</td>\n",
       "      <td>13676.68750</td>\n",
       "      <td>4</td>\n",
       "      <td>4</td>\n",
       "      <td>District 4</td>\n",
       "      <td>1</td>\n",
       "      <td>776292</td>\n",
       "      <td>0</td>\n",
       "      <td>3.369344</td>\n",
       "      <td>16.654527</td>\n",
       "      <td>POLYGON ((586970.408 3652557.686, 586969.211 3...</td>\n",
       "    </tr>\n",
       "    <tr>\n",
       "      <th>3</th>\n",
       "      <td>1</td>\n",
       "      <td>9001.86621</td>\n",
       "      <td>1</td>\n",
       "      <td>1</td>\n",
       "      <td>District 1</td>\n",
       "      <td>1</td>\n",
       "      <td>776292</td>\n",
       "      <td>0</td>\n",
       "      <td>2.170494</td>\n",
       "      <td>13.215370</td>\n",
       "      <td>POLYGON ((735602.327 3369168.341, 735610.963 3...</td>\n",
       "    </tr>\n",
       "    <tr>\n",
       "      <th>4</th>\n",
       "      <td>6</td>\n",
       "      <td>4452.85351</td>\n",
       "      <td>6</td>\n",
       "      <td>6</td>\n",
       "      <td>District 6</td>\n",
       "      <td>1</td>\n",
       "      <td>776292</td>\n",
       "      <td>1</td>\n",
       "      <td>1.077026</td>\n",
       "      <td>13.590078</td>\n",
       "      <td>POLYGON ((624628.280 3374658.726, 626751.084 3...</td>\n",
       "    </tr>\n",
       "  </tbody>\n",
       "</table>\n",
       "</div>"
      ],
      "text/plain": [
       "   ID         AREA  OBJECTID  DISTRICT_I        NAME  NUM_MEMBER  IDEAL_POP  \\\n",
       "0   5  15208.31440         5           5  District 5           1     776292   \n",
       "1   3   8612.33105         3           3  District 3           1     776292   \n",
       "2   4  13676.68750         4           4  District 4           1     776292   \n",
       "3   1   9001.86621         1           1  District 1           1     776292   \n",
       "4   6   4452.85351         6           6  District 6           1     776292   \n",
       "\n",
       "   IS_LOCKED  SHAPE_AREA  SHAPE_LEN  \\\n",
       "0          0    3.746101  19.820423   \n",
       "1          0    2.082512   9.691517   \n",
       "2          0    3.369344  16.654527   \n",
       "3          0    2.170494  13.215370   \n",
       "4          1    1.077026  13.590078   \n",
       "\n",
       "                                            geometry  \n",
       "0  POLYGON ((586970.408 3652557.686, 587019.738 3...  \n",
       "1  POLYGON ((619361.700 3374642.200, 619400.659 3...  \n",
       "2  POLYGON ((586970.408 3652557.686, 586969.211 3...  \n",
       "3  POLYGON ((735602.327 3369168.341, 735610.963 3...  \n",
       "4  POLYGON ((624628.280 3374658.726, 626751.084 3...  "
      ]
     },
     "execution_count": 51,
     "metadata": {},
     "output_type": "execute_result"
    }
   ],
   "source": [
    "cong_df.head()"
   ]
  },
  {
   "cell_type": "code",
   "execution_count": 52,
   "id": "2b8fbf45-f392-4996-9dc6-e9ee67d0e715",
   "metadata": {
    "tags": []
   },
   "outputs": [
    {
     "name": "stderr",
     "output_type": "stream",
     "text": [
      "100%|█████████████████████████████████████████████| 6/6 [00:00<00:00, 45.50it/s]\n",
      "100%|█████████████████████████████████████████████| 6/6 [00:00<00:00, 69.64it/s]\n",
      "100%|█████████████████████████████████████████████| 6/6 [00:01<00:00,  4.94it/s]\n"
     ]
    }
   ],
   "source": [
    "election_df = add_district(cong_df, \"CD\", election_df, \"DISTRICT_I\")"
   ]
  },
  {
   "cell_type": "code",
   "execution_count": 53,
   "id": "27bd9ea7-b622-46f7-8996-f530a8520102",
   "metadata": {},
   "outputs": [
    {
     "data": {
      "text/html": [
       "<div>\n",
       "<style scoped>\n",
       "    .dataframe tbody tr th:only-of-type {\n",
       "        vertical-align: middle;\n",
       "    }\n",
       "\n",
       "    .dataframe tbody tr th {\n",
       "        vertical-align: top;\n",
       "    }\n",
       "\n",
       "    .dataframe thead th {\n",
       "        text-align: right;\n",
       "    }\n",
       "</style>\n",
       "<table border=\"1\" class=\"dataframe\">\n",
       "  <thead>\n",
       "    <tr style=\"text-align: right;\">\n",
       "      <th></th>\n",
       "      <th>ID</th>\n",
       "      <th>AREA</th>\n",
       "      <th>OBJECTID</th>\n",
       "      <th>DISTRICT_I</th>\n",
       "      <th>NAME</th>\n",
       "      <th>NUM_MEMBER</th>\n",
       "      <th>IDEAL_POP</th>\n",
       "      <th>IS_LOCKED</th>\n",
       "      <th>SHAPE_AREA</th>\n",
       "      <th>SHAPE_LEN</th>\n",
       "      <th>geometry</th>\n",
       "    </tr>\n",
       "  </thead>\n",
       "  <tbody>\n",
       "    <tr>\n",
       "      <th>0</th>\n",
       "      <td>17</td>\n",
       "      <td>1269.450560</td>\n",
       "      <td>12</td>\n",
       "      <td>12</td>\n",
       "      <td>District 12</td>\n",
       "      <td>1</td>\n",
       "      <td>44359</td>\n",
       "      <td>0</td>\n",
       "      <td>0.316265</td>\n",
       "      <td>2.972525</td>\n",
       "      <td>POLYGON ((525709.508 3652915.871, 525811.686 3...</td>\n",
       "    </tr>\n",
       "    <tr>\n",
       "      <th>1</th>\n",
       "      <td>7</td>\n",
       "      <td>3456.005120</td>\n",
       "      <td>47</td>\n",
       "      <td>47</td>\n",
       "      <td>District 47</td>\n",
       "      <td>1</td>\n",
       "      <td>44359</td>\n",
       "      <td>0</td>\n",
       "      <td>0.834558</td>\n",
       "      <td>6.079176</td>\n",
       "      <td>POLYGON ((592502.996 3264406.166, 592334.652 3...</td>\n",
       "    </tr>\n",
       "    <tr>\n",
       "      <th>2</th>\n",
       "      <td>20</td>\n",
       "      <td>231.143982</td>\n",
       "      <td>15</td>\n",
       "      <td>15</td>\n",
       "      <td>District 15</td>\n",
       "      <td>1</td>\n",
       "      <td>44359</td>\n",
       "      <td>0</td>\n",
       "      <td>0.057390</td>\n",
       "      <td>1.363273</td>\n",
       "      <td>POLYGON ((554909.109 3595522.832, 554909.808 3...</td>\n",
       "    </tr>\n",
       "    <tr>\n",
       "      <th>3</th>\n",
       "      <td>45</td>\n",
       "      <td>2135.672360</td>\n",
       "      <td>20</td>\n",
       "      <td>20</td>\n",
       "      <td>District 20</td>\n",
       "      <td>1</td>\n",
       "      <td>44359</td>\n",
       "      <td>0</td>\n",
       "      <td>0.527201</td>\n",
       "      <td>7.543825</td>\n",
       "      <td>POLYGON ((563787.476 3577175.298, 563810.105 3...</td>\n",
       "    </tr>\n",
       "    <tr>\n",
       "      <th>4</th>\n",
       "      <td>31</td>\n",
       "      <td>1065.128660</td>\n",
       "      <td>28</td>\n",
       "      <td>28</td>\n",
       "      <td>District 28</td>\n",
       "      <td>1</td>\n",
       "      <td>44359</td>\n",
       "      <td>0</td>\n",
       "      <td>0.260345</td>\n",
       "      <td>3.158888</td>\n",
       "      <td>POLYGON ((594377.865 3466135.449, 594551.412 3...</td>\n",
       "    </tr>\n",
       "  </tbody>\n",
       "</table>\n",
       "</div>"
      ],
      "text/plain": [
       "   ID         AREA  OBJECTID  DISTRICT_I         NAME  NUM_MEMBER  IDEAL_POP  \\\n",
       "0  17  1269.450560        12          12  District 12           1      44359   \n",
       "1   7  3456.005120        47          47  District 47           1      44359   \n",
       "2  20   231.143982        15          15  District 15           1      44359   \n",
       "3  45  2135.672360        20          20  District 20           1      44359   \n",
       "4  31  1065.128660        28          28  District 28           1      44359   \n",
       "\n",
       "   IS_LOCKED  SHAPE_AREA  SHAPE_LEN  \\\n",
       "0          0    0.316265   2.972525   \n",
       "1          0    0.834558   6.079176   \n",
       "2          0    0.057390   1.363273   \n",
       "3          0    0.527201   7.543825   \n",
       "4          0    0.260345   3.158888   \n",
       "\n",
       "                                            geometry  \n",
       "0  POLYGON ((525709.508 3652915.871, 525811.686 3...  \n",
       "1  POLYGON ((592502.996 3264406.166, 592334.652 3...  \n",
       "2  POLYGON ((554909.109 3595522.832, 554909.808 3...  \n",
       "3  POLYGON ((563787.476 3577175.298, 563810.105 3...  \n",
       "4  POLYGON ((594377.865 3466135.449, 594551.412 3...  "
      ]
     },
     "execution_count": 53,
     "metadata": {},
     "output_type": "execute_result"
    }
   ],
   "source": [
    "hdist.head()"
   ]
  },
  {
   "cell_type": "code",
   "execution_count": 54,
   "id": "da4c6235-1028-43d0-adde-affe669c3f20",
   "metadata": {
    "tags": []
   },
   "outputs": [
    {
     "name": "stderr",
     "output_type": "stream",
     "text": [
      "100%|████████████████████████████████████████| 105/105 [00:00<00:00, 225.39it/s]\n",
      "100%|████████████████████████████████████████| 105/105 [00:00<00:00, 708.72it/s]\n",
      "100%|█████████████████████████████████████████| 105/105 [00:02<00:00, 48.01it/s]\n"
     ]
    }
   ],
   "source": [
    "election_df = add_district(hdist, \"HDIST\", election_df, \"DISTRICT_I\")"
   ]
  },
  {
   "cell_type": "code",
   "execution_count": 55,
   "id": "4c6f7560-f433-4ba1-9777-a172415c1f8d",
   "metadata": {},
   "outputs": [
    {
     "data": {
      "text/html": [
       "<div>\n",
       "<style scoped>\n",
       "    .dataframe tbody tr th:only-of-type {\n",
       "        vertical-align: middle;\n",
       "    }\n",
       "\n",
       "    .dataframe tbody tr th {\n",
       "        vertical-align: top;\n",
       "    }\n",
       "\n",
       "    .dataframe thead th {\n",
       "        text-align: right;\n",
       "    }\n",
       "</style>\n",
       "<table border=\"1\" class=\"dataframe\">\n",
       "  <thead>\n",
       "    <tr style=\"text-align: right;\">\n",
       "      <th></th>\n",
       "      <th>ID</th>\n",
       "      <th>AREA</th>\n",
       "      <th>OBJECTID</th>\n",
       "      <th>DISTRICT_I</th>\n",
       "      <th>NAME</th>\n",
       "      <th>NUM_MEMBER</th>\n",
       "      <th>IDEAL_POP</th>\n",
       "      <th>IS_LOCKED</th>\n",
       "      <th>SHAPE_AREA</th>\n",
       "      <th>SHAPE_LEN</th>\n",
       "      <th>geometry</th>\n",
       "    </tr>\n",
       "  </thead>\n",
       "  <tbody>\n",
       "    <tr>\n",
       "      <th>0</th>\n",
       "      <td>21</td>\n",
       "      <td>3313.98730</td>\n",
       "      <td>33</td>\n",
       "      <td>33</td>\n",
       "      <td>District 33</td>\n",
       "      <td>1</td>\n",
       "      <td>119429</td>\n",
       "      <td>0</td>\n",
       "      <td>0.825928</td>\n",
       "      <td>8.256837</td>\n",
       "      <td>POLYGON ((451340.946 3653469.830, 451925.690 3...</td>\n",
       "    </tr>\n",
       "    <tr>\n",
       "      <th>1</th>\n",
       "      <td>20</td>\n",
       "      <td>4222.72119</td>\n",
       "      <td>32</td>\n",
       "      <td>32</td>\n",
       "      <td>District 32</td>\n",
       "      <td>1</td>\n",
       "      <td>119429</td>\n",
       "      <td>0</td>\n",
       "      <td>1.039192</td>\n",
       "      <td>11.102783</td>\n",
       "      <td>POLYGON ((640889.366 3498100.539, 641057.299 3...</td>\n",
       "    </tr>\n",
       "    <tr>\n",
       "      <th>2</th>\n",
       "      <td>12</td>\n",
       "      <td>2129.16577</td>\n",
       "      <td>26</td>\n",
       "      <td>26</td>\n",
       "      <td>District 26</td>\n",
       "      <td>1</td>\n",
       "      <td>119429</td>\n",
       "      <td>0</td>\n",
       "      <td>0.514721</td>\n",
       "      <td>4.514334</td>\n",
       "      <td>POLYGON ((592502.996 3264406.166, 592334.652 3...</td>\n",
       "    </tr>\n",
       "    <tr>\n",
       "      <th>3</th>\n",
       "      <td>18</td>\n",
       "      <td>1241.25817</td>\n",
       "      <td>29</td>\n",
       "      <td>29</td>\n",
       "      <td>District 29</td>\n",
       "      <td>1</td>\n",
       "      <td>119429</td>\n",
       "      <td>0</td>\n",
       "      <td>0.306078</td>\n",
       "      <td>9.155427</td>\n",
       "      <td>POLYGON ((505733.459 3598528.950, 505741.902 3...</td>\n",
       "    </tr>\n",
       "    <tr>\n",
       "      <th>4</th>\n",
       "      <td>15</td>\n",
       "      <td>1704.75268</td>\n",
       "      <td>35</td>\n",
       "      <td>35</td>\n",
       "      <td>District 35</td>\n",
       "      <td>1</td>\n",
       "      <td>119429</td>\n",
       "      <td>0</td>\n",
       "      <td>0.421254</td>\n",
       "      <td>6.352017</td>\n",
       "      <td>POLYGON ((530306.552 3601140.898, 530382.934 3...</td>\n",
       "    </tr>\n",
       "  </tbody>\n",
       "</table>\n",
       "</div>"
      ],
      "text/plain": [
       "   ID        AREA  OBJECTID  DISTRICT_I         NAME  NUM_MEMBER  IDEAL_POP  \\\n",
       "0  21  3313.98730        33          33  District 33           1     119429   \n",
       "1  20  4222.72119        32          32  District 32           1     119429   \n",
       "2  12  2129.16577        26          26  District 26           1     119429   \n",
       "3  18  1241.25817        29          29  District 29           1     119429   \n",
       "4  15  1704.75268        35          35  District 35           1     119429   \n",
       "\n",
       "   IS_LOCKED  SHAPE_AREA  SHAPE_LEN  \\\n",
       "0          0    0.825928   8.256837   \n",
       "1          0    1.039192  11.102783   \n",
       "2          0    0.514721   4.514334   \n",
       "3          0    0.306078   9.155427   \n",
       "4          0    0.421254   6.352017   \n",
       "\n",
       "                                            geometry  \n",
       "0  POLYGON ((451340.946 3653469.830, 451925.690 3...  \n",
       "1  POLYGON ((640889.366 3498100.539, 641057.299 3...  \n",
       "2  POLYGON ((592502.996 3264406.166, 592334.652 3...  \n",
       "3  POLYGON ((505733.459 3598528.950, 505741.902 3...  \n",
       "4  POLYGON ((530306.552 3601140.898, 530382.934 3...  "
      ]
     },
     "execution_count": 55,
     "metadata": {},
     "output_type": "execute_result"
    }
   ],
   "source": [
    "send.head()"
   ]
  },
  {
   "cell_type": "code",
   "execution_count": 56,
   "id": "a9fe98af-f37e-4200-835e-f96695f68e41",
   "metadata": {
    "tags": []
   },
   "outputs": [
    {
     "name": "stderr",
     "output_type": "stream",
     "text": [
      "100%|███████████████████████████████████████████| 39/39 [00:00<00:00, 95.26it/s]\n"
     ]
    },
    {
     "name": "stdout",
     "output_type": "stream",
     "text": [
      "There are 1 holes.\n",
      "Snapping all geometries to a grid with precision 10^( -5 ) to avoid GEOS errors.\n",
      "Identifying overlaps...\n"
     ]
    },
    {
     "name": "stderr",
     "output_type": "stream",
     "text": [
      "100%|██████████████████████████████████████████| 43/43 [00:00<00:00, 735.55it/s]\n"
     ]
    },
    {
     "name": "stdout",
     "output_type": "stream",
     "text": [
      "Resolving overlaps...\n",
      "1 gaps will remain unfilled, because they either are not simply connected or exceed the area threshold.\n",
      "Filling gaps...\n"
     ]
    },
    {
     "name": "stderr",
     "output_type": "stream",
     "text": [
      "Gaps to simplify: 0it [00:00, ?it/s]\n",
      "Gaps to fill: 0it [00:00, ?it/s]\n",
      "100%|███████████████████████████████████████████| 39/39 [00:00<00:00, 97.75it/s]\n"
     ]
    },
    {
     "name": "stdout",
     "output_type": "stream",
     "text": [
      "There are 1 holes.\n",
      "Perhaps smart repair failed?\n"
     ]
    },
    {
     "name": "stderr",
     "output_type": "stream",
     "text": [
      "100%|███████████████████████████████████████████| 39/39 [00:01<00:00, 21.14it/s]\n",
      "100%|███████████████████████████████████████████| 39/39 [00:00<00:00, 88.55it/s]\n"
     ]
    }
   ],
   "source": [
    "election_df = add_district(send, \"SEND\", election_df, \"DISTRICT_I\")"
   ]
  },
  {
   "cell_type": "markdown",
   "id": "72d067da-7179-48d8-9925-13e63016e4a7",
   "metadata": {},
   "source": [
    "We can visually see that this hole is Lake Pontchartrain.  So as long as we didn't lose population, we should be fine."
   ]
  },
  {
   "cell_type": "code",
   "execution_count": 58,
   "id": "189d841c-a13f-4a96-85d1-80db7e594e3b",
   "metadata": {},
   "outputs": [
    {
     "data": {
      "text/plain": [
       "<Axes: >"
      ]
     },
     "execution_count": 58,
     "metadata": {},
     "output_type": "execute_result"
    },
    {
     "data": {
      "image/png": "[encoded data removed]",
      "text/plain": [
       "<Figure size 640x480 with 1 Axes>"
      ]
     },
     "metadata": {},
     "output_type": "display_data"
    }
   ],
   "source": [
    "send.plot()"
   ]
  },
  {
   "cell_type": "code",
   "execution_count": 59,
   "id": "1a056b6f-95e3-4d36-8ef2-3fe766772cdd",
   "metadata": {},
   "outputs": [],
   "source": [
    "election_df = election_df.dropna(subset=['SEND'])"
   ]
  },
  {
   "cell_type": "code",
   "execution_count": 60,
   "id": "884b0f89-9564-44ef-bb40-90b98830f34b",
   "metadata": {},
   "outputs": [
    {
     "name": "stdout",
     "output_type": "stream",
     "text": [
      "population agrees\n"
     ]
    }
   ],
   "source": [
    "check_population(population_df, vest_base)"
   ]
  },
  {
   "cell_type": "code",
   "execution_count": 61,
   "id": "aaee6a30-6a18-473e-bd02-7881c1e94e68",
   "metadata": {},
   "outputs": [
    {
     "data": {
      "text/plain": [
       "Index(['2MOREVAP', 'AGR19D', 'AGR19R', 'AMINVAP', 'ASIANVAP', 'ATG19D',\n",
       "       'ATG19R', 'BVAP', 'COUNTYFP', 'GOV19D', 'GOV19O', 'GOV19R', 'HISP',\n",
       "       'HVAP', 'H_2MORE', 'H_AMIN', 'H_ASIAN', 'H_BLACK', 'H_NHPI', 'H_OTHER',\n",
       "       'H_WHITE', 'INS19R', 'LTG19D', 'LTG19R', 'NAME', 'NHPIVAP', 'NH_2MORE',\n",
       "       'NH_AMIN', 'NH_ASIAN', 'NH_BLACK', 'NH_NHPI', 'NH_OTHER', 'NH_WHITE',\n",
       "       'OTHERVAP', 'PRE16D', 'PRE16O', 'PRE16R', 'PRE20D', 'PRE20O', 'PRE20R',\n",
       "       'SOS18D', 'SOS18O', 'SOS18R', 'SOS19D', 'SOS19R', 'STATEFP', 'TOTPOP',\n",
       "       'TRE19D', 'TRE19O', 'TRE19R', 'USS16D', 'USS16O', 'USS16R', 'USS20D',\n",
       "       'USS20O', 'USS20R', 'VAP', 'VTDST', 'WVAP', 'geometry', 'CD', 'HDIST',\n",
       "       'SEND'],\n",
       "      dtype='object')"
      ]
     },
     "execution_count": 61,
     "metadata": {},
     "output_type": "execute_result"
    }
   ],
   "source": [
    "election_df.columns"
   ]
  },
  {
   "cell_type": "markdown",
   "id": "0bba365b-7d46-45ea-9b8b-400fc162a82f",
   "metadata": {},
   "source": [
    "### Put the base precinct year after the precinct information column"
   ]
  },
  {
   "cell_type": "code",
   "execution_count": 63,
   "id": "7086205b-49f4-44a7-be19-9eeac924e07b",
   "metadata": {},
   "outputs": [],
   "source": [
    "base_columns = {}\n",
    "if 'COUNTYFP' + year not in election_df.columns:\n",
    "    base_columns = {\n",
    "        'STATEFP':'STATEFP'+year,\n",
    "        'COUNTYFP':'COUNTYFP'+year,\n",
    "        'VTDST':'VTDST'+year,\n",
    "        'GEOID':'GEOID'+year,\n",
    "        'NAME':'NAME'+year}\n",
    "election_df.rename(columns=base_columns, inplace = True)"
   ]
  },
  {
   "cell_type": "code",
   "execution_count": 64,
   "id": "3ea62760-cc32-4fcc-8475-c3ba956cb901",
   "metadata": {},
   "outputs": [],
   "source": [
    "# reorder the columns\n",
    "fixed_columns = [\n",
    "    'STATEFP'+year,\n",
    "    'COUNTYFP'+year,\n",
    "    'VTDST'+year,\n",
    "    # 'GEOID'+year,\n",
    "    'NAME'+year,\n",
    "    'CD',\n",
    "    # 'SEND', failed\n",
    "    'HDIST',\n",
    "    'TOTPOP',\n",
    "    'NH_2MORE',\n",
    "    'NH_AMIN',\n",
    "    'NH_ASIAN',\n",
    "    'NH_BLACK',\n",
    "    'NH_NHPI',\n",
    "    'NH_OTHER',\n",
    "    'NH_WHITE',\n",
    "    'HISP',\n",
    "    'H_AMIN',\n",
    "    'H_ASIAN',\n",
    "    'H_BLACK',\n",
    "    'H_NHPI',\n",
    "    'H_OTHER',\n",
    "    'H_WHITE',\n",
    "    'H_2MORE',\n",
    "    'VAP',\n",
    "    'HVAP',\n",
    "    'WVAP',\n",
    "    'BVAP',\n",
    "    'AMINVAP',\n",
    "    'ASIANVAP',\n",
    "    'NHPIVAP',\n",
    "    'OTHERVAP',\n",
    "    '2MOREVAP']\n",
    "\n",
    "election_columns = [col for col in election_df.columns if col not in fixed_columns]\n",
    "final_col = fixed_columns + election_columns\n",
    "election_df = election_df[final_col]"
   ]
  },
  {
   "cell_type": "code",
   "execution_count": 65,
   "id": "1b198042-dbd4-408e-bfd4-4494f2b49245",
   "metadata": {
    "tags": []
   },
   "outputs": [],
   "source": [
    "directory = \"./{}\".format(state_ab)\n",
    "if not os.path.exists(directory):\n",
    "    os.makedirs(directory)\n",
    "shapefile_path = \"./{}/{}.shp\".format(state_ab, state_ab)\n",
    "geojson_path = './{}/{}.geojson'.format(state_ab, state_ab)\n",
    "json_path = \"./{}.json\".format(state_ab, state_ab)\n",
    "\n",
    "# Check if the shapefile or geojson file already exists\n",
    "if os.path.exists(shapefile_path):\n",
    "    os.remove(shapefile_path)\n",
    "if os.path.exists(geojson_path):\n",
    "    os.remove(geojson_path)\n",
    "\n",
    "election_df.to_file(shapefile_path)\n",
    "election_df.to_file(geojson_path, driver='GeoJSON')\n",
    "\n",
    "# Only do once to build json and read from file when generating ensembles\n",
    "graph = Graph.from_file(shapefile_path, ignore_errors=True)\n",
    "graph.to_json(json_path)"
   ]
  },
  {
   "cell_type": "code",
   "execution_count": 66,
   "id": "a8ba4789-8282-428a-90d4-e59ee50f4064",
   "metadata": {},
   "outputs": [
    {
     "data": {
      "text/plain": [
       "<Axes: >"
      ]
     },
     "execution_count": 66,
     "metadata": {},
     "output_type": "execute_result"
    },
    {
     "data": {
      "image/png": "[encoded data removed]",
      "text/plain": [
       "<Figure size 640x480 with 1 Axes>"
      ]
     },
     "metadata": {},
     "output_type": "display_data"
    }
   ],
   "source": [
    "shapefile_path = \"./{}/{}.shp\".format(state_ab, state_ab)\n",
    "shape=gpd.read_file(shapefile_path)\n",
    "shape.plot()"
   ]
  },
  {
   "cell_type": "code",
   "execution_count": null,
   "id": "1336eab5-1c12-4f77-a0eb-eb6a335fa88d",
   "metadata": {},
   "outputs": [],
   "source": []
  }
 ],
 "metadata": {
  "kernelspec": {
   "display_name": "gerry",
   "language": "python",
   "name": "gerry"
  },
  "language_info": {
   "codemirror_mode": {
    "name": "ipython",
    "version": 3
   },
   "file_extension": ".py",
   "mimetype": "text/x-python",
   "name": "python",
   "nbconvert_exporter": "python",
   "pygments_lexer": "ipython3",
   "version": "3.11.4"
  }
 },
 "nbformat": 4,
 "nbformat_minor": 5
}
